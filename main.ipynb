{
 "cells": [
  {
   "cell_type": "code",
   "execution_count": 1,
   "metadata": {},
   "outputs": [],
   "source": [
    "import pandas as pd\n",
    "import numpy  as np\n",
    "\n",
    "import tensorflow as tf\n",
    "from tensorflow import keras\n",
    "\n",
    "import pickle\n",
    "import category_encoders"
   ]
  },
  {
   "cell_type": "code",
   "execution_count": 2,
   "metadata": {},
   "outputs": [
    {
     "name": "stdout",
     "output_type": "stream",
     "text": [
      "1/1 [==============================] - 5s 5s/step\n"
     ]
    }
   ],
   "source": [
    "file=\"Data/datayouwannapredict.csv\"              #read the file you wanna predict, must have the colnames.\n",
    "\n",
    "targetnames=[\"Tidak banjir\", \"Banjir\"]\n",
    "with open(\"assets/onehotencoder.pkl\", \"br\") as fh:  \n",
    "    encoder = pickle.load(fh)\n",
    "\n",
    "model=keras.models.load_model(\"assets/model.keras\")\n",
    "\n",
    "def predict(features):\n",
    "    features=encoder.transform(features)\n",
    "    probability=model.predict(features)\n",
    "    predicted = tf.where(probability < 0.5, 0, 1)\n",
    "    return np.array(predicted)\n",
    "\n",
    "df=pd.read_csv(file)\n",
    "target =predict(df)"
   ]
  },
  {
   "cell_type": "code",
   "execution_count": 6,
   "metadata": {},
   "outputs": [
    {
     "data": {
      "text/plain": [
       "['Banjir', 'Banjir', 'Banjir']"
      ]
     },
     "execution_count": 6,
     "metadata": {},
     "output_type": "execute_result"
    }
   ],
   "source": [
    "[targetnames[i[0]] for i in target]"
   ]
  }
 ],
 "metadata": {
  "kernelspec": {
   "display_name": "tf",
   "language": "python",
   "name": "python3"
  },
  "language_info": {
   "codemirror_mode": {
    "name": "ipython",
    "version": 3
   },
   "file_extension": ".py",
   "mimetype": "text/x-python",
   "name": "python",
   "nbconvert_exporter": "python",
   "pygments_lexer": "ipython3",
   "version": "3.9.18"
  }
 },
 "nbformat": 4,
 "nbformat_minor": 2
}
